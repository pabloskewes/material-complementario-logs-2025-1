{
 "cells": [
  {
   "cell_type": "markdown",
   "metadata": {},
   "source": [
    "## Quicksort tornillos y tuercas\n",
    "\n",
    "Nos dan una fila de $n$ tuercas y otra de los $n$ tornillos que les corresponden, pero en cualquier orden. Visualmente no podemos comparar dos tuercas o dos tornillos, pero sí podemos probar una tuerca con un tornillo y decidir cuál es mayor que la otra, o si corresponden.\n",
    "\n",
    "A continuación, se presenta una implementación del algoritmo de quicksort para ordenar las tuercas y los tornillos."
   ]
  },
  {
   "cell_type": "markdown",
   "metadata": {},
   "source": [
    "1. Primero, se define una clase para representar las tuercas y los tornillos. Se implementan los métodos `__lt__`, `__gt__` y `__eq__` para comparar las tuercas y los tornillos con el operador `<`, `>` y `==` respectivamente: Se puede comparar una tuerca con un tornillo, pero no una tuerca con otra tuerca o un tornillo con otro tornillo."
   ]
  },
  {
   "cell_type": "code",
   "execution_count": 1,
   "metadata": {},
   "outputs": [],
   "source": [
    "import random\n",
    "from dataclasses import dataclass\n",
    "from pprint import pprint\n",
    "\n",
    "\n",
    "@dataclass(eq=False)\n",
    "class Pieza:\n",
    "    size: int\n",
    "\n",
    "    def tipo_opuesto(self):\n",
    "        raise NotImplementedError(\"Subclase debe implementar tipo_opuesto\")\n",
    "\n",
    "    def _validate_opposite_type(self, other):\n",
    "        if not isinstance(other, self.tipo_opuesto()):\n",
    "            raise ValueError(\n",
    "                f\"No se puede comparar {self.__class__.__name__} \"\n",
    "                f\"con algo que no sea {self.tipo_opuesto().__name__}\"\n",
    "            )\n",
    "\n",
    "    def __lt__(self, other) -> bool:\n",
    "        self._validate_opposite_type(other)\n",
    "        return self.size < other.size\n",
    "\n",
    "    def __gt__(self, other) -> bool:\n",
    "        self._validate_opposite_type(other)\n",
    "        return self.size > other.size\n",
    "\n",
    "    def __eq__(self, other) -> bool:\n",
    "        self._validate_opposite_type(other)\n",
    "        return self.size == other.size\n",
    "\n",
    "\n",
    "class Tornillo(Pieza):\n",
    "    def tipo_opuesto(self):\n",
    "        return Tuerca\n",
    "\n",
    "\n",
    "class Tuerca(Pieza):\n",
    "    def tipo_opuesto(self):\n",
    "        return Tornillo"
   ]
  },
  {
   "cell_type": "markdown",
   "metadata": {},
   "source": [
    "A continuación podemos ver algunas comparaciones entre tuercas y tornillos:"
   ]
  },
  {
   "cell_type": "code",
   "execution_count": 2,
   "metadata": {},
   "outputs": [
    {
     "name": "stdout",
     "output_type": "stream",
     "text": [
      "Tuerca(size=1) > Tornillo(size=2) <=> False\n",
      "Tornillo(size=3) > Tuerca(size=2) <=> True\n",
      "Tuerca(size=1) > Tuerca(size=2) <=> No se puede comparar Tuerca con algo que no sea Tornillo\n",
      "Tornillo(size=1) > Tornillo(size=2) <=> No se puede comparar Tornillo con algo que no sea Tuerca\n",
      "\n",
      "Tuerca(size=3) == Tornillo(size=3) <=> True\n",
      "Tuerca(size=3) == Tornillo(size=2) <=> False\n",
      "Tuerca(size=1) == Tuerca(size=1) <=> No se puede comparar Tuerca con algo que no sea Tornillo\n",
      "Tornillo(size=1) == Tornillo(size=2) <=> No se puede comparar Tornillo con algo que no sea Tuerca\n"
     ]
    }
   ],
   "source": [
    "def print_lt_comp(a: Pieza, b: Pieza):\n",
    "    try:\n",
    "        print(f\"{a} > {b} <=> {a > b}\")\n",
    "    except ValueError as e:\n",
    "        print(f\"{a} > {b} <=> {e}\")\n",
    "        \n",
    "def print_eq_comp(a: Pieza, b: Pieza):\n",
    "    try:\n",
    "        print(f\"{a} == {b} <=> {a == b}\")\n",
    "    except ValueError as e:\n",
    "        print(f\"{a} == {b} <=> {e}\")\n",
    "\n",
    "print_lt_comp(Tuerca(1), Tornillo(2))\n",
    "print_lt_comp(Tornillo(3), Tuerca(2))\n",
    "print_lt_comp(Tuerca(1), Tuerca(2))\n",
    "print_lt_comp(Tornillo(1), Tornillo(2))\n",
    "print()\n",
    "print_eq_comp(Tuerca(3), Tornillo(3))\n",
    "print_eq_comp(Tuerca(3), Tornillo(2))\n",
    "print_eq_comp(Tuerca(1), Tuerca(1))\n",
    "print_eq_comp(Tornillo(1), Tornillo(2))"
   ]
  },
  {
   "cell_type": "markdown",
   "metadata": {},
   "source": [
    "2. Luego, se implementa el algoritmo de quicksort para ordenar las tuercas y los tornillos."
   ]
  },
  {
   "cell_type": "code",
   "execution_count": 3,
   "metadata": {},
   "outputs": [],
   "source": [
    "def quicksort_tornillos_y_tuercas(\n",
    "    arr_tornillos: list[Tornillo],\n",
    "    arr_tuercas: list[Tuerca],\n",
    ") -> tuple[list[Tornillo], list[Tuerca]]:\n",
    "\n",
    "    if not arr_tornillos or not arr_tuercas:\n",
    "        return [], []\n",
    "\n",
    "    # Elegir un tornillo como pivote\n",
    "    pivot_tornillo = arr_tornillos[0]\n",
    "\n",
    "    # Encontrar la tuerca correspondiente al tornillo pivote\n",
    "    pivot_tuerca_idx = None\n",
    "    for i, tuerca in enumerate(arr_tuercas):\n",
    "        if tuerca == pivot_tornillo:\n",
    "            pivot_tuerca_idx = i\n",
    "            pivot_tuerca = tuerca\n",
    "            break\n",
    "\n",
    "    # Particionar tuercas usando el tornillo pivote\n",
    "    tuercas_menores = []\n",
    "    tuercas_mayores = []\n",
    "\n",
    "    for i, tuerca in enumerate(arr_tuercas):\n",
    "        if i == pivot_tuerca_idx:\n",
    "            continue\n",
    "        if tuerca < pivot_tornillo:\n",
    "            tuercas_menores.append(tuerca)\n",
    "        else:\n",
    "            tuercas_mayores.append(tuerca)\n",
    "\n",
    "    # Particionar tornillos usando la tuerca pivote\n",
    "    tornillos_menores = []\n",
    "    tornillos_mayores = []\n",
    "\n",
    "    for i, tornillo in enumerate(arr_tornillos):\n",
    "        if i == 0:  # Skip pivot\n",
    "            continue\n",
    "        if tornillo < pivot_tuerca:\n",
    "            tornillos_menores.append(tornillo)\n",
    "        else:\n",
    "            tornillos_mayores.append(tornillo)\n",
    "\n",
    "    # Recursivamente ordenar las sublistas\n",
    "    tornillos_menores_ord, tuercas_menores_ord = quicksort_tornillos_y_tuercas(\n",
    "        tornillos_menores, tuercas_menores\n",
    "    )\n",
    "    tornillos_mayores_ord, tuercas_mayores_ord = quicksort_tornillos_y_tuercas(\n",
    "        tornillos_mayores, tuercas_mayores\n",
    "    )\n",
    "\n",
    "    # Combinar los resultados\n",
    "    tornillos_ordenados = (\n",
    "        tornillos_menores_ord + [pivot_tornillo] + tornillos_mayores_ord\n",
    "    )\n",
    "    tuercas_ordenadas = tuercas_menores_ord + [pivot_tuerca] + tuercas_mayores_ord\n",
    "\n",
    "    return tornillos_ordenados, tuercas_ordenadas"
   ]
  },
  {
   "cell_type": "markdown",
   "metadata": {},
   "source": [
    "3. Se prueba el algoritmo con un ejemplo:\n"
   ]
  },
  {
   "cell_type": "code",
   "execution_count": 4,
   "metadata": {},
   "outputs": [
    {
     "name": "stdout",
     "output_type": "stream",
     "text": [
      "Tornillos:\n",
      "\n",
      "[Tornillo(size=2),\n",
      " Tornillo(size=10),\n",
      " Tornillo(size=6),\n",
      " Tornillo(size=3),\n",
      " Tornillo(size=5),\n",
      " Tornillo(size=9),\n",
      " Tornillo(size=4),\n",
      " Tornillo(size=7),\n",
      " Tornillo(size=1),\n",
      " Tornillo(size=8)]\n",
      "\n",
      "\n",
      "Tuercas:\n",
      "\n",
      "[Tuerca(size=10),\n",
      " Tuerca(size=3),\n",
      " Tuerca(size=7),\n",
      " Tuerca(size=9),\n",
      " Tuerca(size=2),\n",
      " Tuerca(size=6),\n",
      " Tuerca(size=4),\n",
      " Tuerca(size=5),\n",
      " Tuerca(size=1),\n",
      " Tuerca(size=8)]\n"
     ]
    }
   ],
   "source": [
    "def generate_example(size: int = 10) -> tuple[list[Tornillo], list[Tuerca]]:\n",
    "    # Crear tornillos con tamaños de 1 a \"size\"\n",
    "    sizes = list(range(1, size + 1))\n",
    "    tornillos = [Tornillo(size) for size in sizes]\n",
    "    random.shuffle(tornillos)\n",
    "\n",
    "    # Crear las mismas tuercas pero en orden aleatorio\n",
    "    tuercas = [Tuerca(size) for size in sizes]\n",
    "    random.shuffle(tuercas)\n",
    "\n",
    "    return tornillos, tuercas\n",
    "\n",
    "tornillos, tuercas = generate_example(size=10)\n",
    "print(\"Tornillos:\\n\")\n",
    "pprint(tornillos)\n",
    "print(\"\\n\")\n",
    "print(\"Tuercas:\\n\")\n",
    "pprint(tuercas)"
   ]
  },
  {
   "cell_type": "markdown",
   "metadata": {},
   "source": [
    "4. Se ejecuta el algoritmo y se imprime el resultado:"
   ]
  },
  {
   "cell_type": "code",
   "execution_count": 5,
   "metadata": {},
   "outputs": [
    {
     "name": "stdout",
     "output_type": "stream",
     "text": [
      "[(Tornillo(size=1), Tuerca(size=1)),\n",
      " (Tornillo(size=2), Tuerca(size=2)),\n",
      " (Tornillo(size=3), Tuerca(size=3)),\n",
      " (Tornillo(size=4), Tuerca(size=4)),\n",
      " (Tornillo(size=5), Tuerca(size=5)),\n",
      " (Tornillo(size=6), Tuerca(size=6)),\n",
      " (Tornillo(size=7), Tuerca(size=7)),\n",
      " (Tornillo(size=8), Tuerca(size=8)),\n",
      " (Tornillo(size=9), Tuerca(size=9)),\n",
      " (Tornillo(size=10), Tuerca(size=10))]\n"
     ]
    }
   ],
   "source": [
    "tornillos_ord, tuercas_ord = quicksort_tornillos_y_tuercas(tornillos, tuercas)\n",
    "pprint([(t, n) for t, n in zip(tornillos_ord, tuercas_ord)])"
   ]
  },
  {
   "cell_type": "markdown",
   "metadata": {},
   "source": [
    "Como se puede ver, se resuelve el problema de ordenar las tuercas y los tornillos!"
   ]
  }
 ],
 "metadata": {
  "kernelspec": {
   "display_name": "Python 3",
   "language": "python",
   "name": "python3"
  },
  "language_info": {
   "codemirror_mode": {
    "name": "ipython",
    "version": 3
   },
   "file_extension": ".py",
   "mimetype": "text/x-python",
   "name": "python",
   "nbconvert_exporter": "python",
   "pygments_lexer": "ipython3",
   "version": "3.11.1"
  }
 },
 "nbformat": 4,
 "nbformat_minor": 2
}
